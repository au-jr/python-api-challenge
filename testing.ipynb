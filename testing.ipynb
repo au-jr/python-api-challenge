{
 "cells": [
  {
   "cell_type": "code",
   "execution_count": 1,
   "metadata": {},
   "outputs": [],
   "source": [
    "# Dependencies and Setup\n",
    "import matplotlib.pyplot as plt\n",
    "import pandas as pd\n",
    "import numpy as np\n",
    "import requests\n",
    "import time\n",
    "from scipy.stats import linregress\n",
    "\n",
    "# Impor the OpenWeatherMap API key\n",
    "from api_keys import geoapify_key\n",
    "from api_keys import weather_api_key\n",
    "\n",
    "# Import citipy to determine the cities based on latitude and longitude\n",
    "from citipy import citipy"
   ]
  },
  {
   "cell_type": "code",
   "execution_count": 2,
   "metadata": {},
   "outputs": [],
   "source": [
    "url = \"https://api.openweathermap.org/data/2.5/weather\""
   ]
  },
  {
   "cell_type": "code",
   "execution_count": 3,
   "metadata": {},
   "outputs": [
    {
     "name": "stdout",
     "output_type": "stream",
     "text": [
      "<Response [200]>\n"
     ]
    }
   ],
   "source": [
    "response = requests.get(f\"{url}?q=lihue&appid={weather_api_key}\")\n",
    "print(response)\n"
   ]
  },
  {
   "cell_type": "code",
   "execution_count": 4,
   "metadata": {},
   "outputs": [
    {
     "data": {
      "text/plain": [
       "{'coord': {'lon': -159.3672, 'lat': 21.9789},\n",
       " 'weather': [{'id': 802,\n",
       "   'main': 'Clouds',\n",
       "   'description': 'scattered clouds',\n",
       "   'icon': '03n'}],\n",
       " 'base': 'stations',\n",
       " 'main': {'temp': 291.34,\n",
       "  'feels_like': 291.67,\n",
       "  'temp_min': 291.34,\n",
       "  'temp_max': 292.79,\n",
       "  'pressure': 1021,\n",
       "  'humidity': 94,\n",
       "  'sea_level': 1021,\n",
       "  'grnd_level': 1012},\n",
       " 'visibility': 10000,\n",
       " 'wind': {'speed': 4.51, 'deg': 58, 'gust': 5.86},\n",
       " 'clouds': {'all': 33},\n",
       " 'dt': 1707473976,\n",
       " 'sys': {'type': 2,\n",
       "  'id': 2039329,\n",
       "  'country': 'US',\n",
       "  'sunrise': 1707498740,\n",
       "  'sunset': 1707539467},\n",
       " 'timezone': -36000,\n",
       " 'id': 5850248,\n",
       " 'name': 'Lihue',\n",
       " 'cod': 200}"
      ]
     },
     "execution_count": 4,
     "metadata": {},
     "output_type": "execute_result"
    }
   ],
   "source": [
    "information = response.json()\n",
    "information"
   ]
  },
  {
   "cell_type": "code",
   "execution_count": 22,
   "metadata": {},
   "outputs": [
    {
     "data": {
      "text/plain": [
       "time.struct_time(tm_year=2024, tm_mon=2, tm_mday=9, tm_hour=10, tm_min=19, tm_sec=36, tm_wday=4, tm_yday=40, tm_isdst=0)"
      ]
     },
     "execution_count": 22,
     "metadata": {},
     "output_type": "execute_result"
    }
   ],
   "source": [
    "time_check = time.gmtime(information['dt'])\n",
    "time_check\n"
   ]
  },
  {
   "cell_type": "code",
   "execution_count": 26,
   "metadata": {},
   "outputs": [
    {
     "data": {
      "text/plain": [
       "2024"
      ]
     },
     "execution_count": 26,
     "metadata": {},
     "output_type": "execute_result"
    }
   ],
   "source": [
    "time_check_year = time_check[0]\n",
    "time_check_year\n"
   ]
  },
  {
   "cell_type": "code",
   "execution_count": null,
   "metadata": {},
   "outputs": [],
   "source": [
    "time_check_month\n",
    "time_check_day\n"
   ]
  }
 ],
 "metadata": {
  "kernelspec": {
   "display_name": "dev0",
   "language": "python",
   "name": "python3"
  },
  "language_info": {
   "codemirror_mode": {
    "name": "ipython",
    "version": 3
   },
   "file_extension": ".py",
   "mimetype": "text/x-python",
   "name": "python",
   "nbconvert_exporter": "python",
   "pygments_lexer": "ipython3",
   "version": "3.7.13"
  }
 },
 "nbformat": 4,
 "nbformat_minor": 2
}
